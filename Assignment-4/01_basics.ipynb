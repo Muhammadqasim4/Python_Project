{
  "nbformat": 4,
  "nbformat_minor": 0,
  "metadata": {
    "colab": {
      "provenance": [],
      "include_colab_link": true
    },
    "kernelspec": {
      "name": "python3",
      "display_name": "Python 3"
    },
    "language_info": {
      "name": "python"
    }
  },
  "cells": [
    {
      "cell_type": "markdown",
      "metadata": {
        "id": "view-in-github",
        "colab_type": "text"
      },
      "source": [
        "<a href=\"https://colab.research.google.com/github/Ammaz737/Assignment-4/blob/main/01_basics.ipynb\" target=\"_parent\"><img src=\"https://colab.research.google.com/assets/colab-badge.svg\" alt=\"Open In Colab\"/></a>"
      ]
    },
    {
      "cell_type": "code",
      "execution_count": null,
      "metadata": {
        "colab": {
          "base_uri": "https://localhost:8080/"
        },
        "id": "KyawXRPolYtZ",
        "outputId": "8053fba6-df85-48d5-ad18-bdb421ab1d3b"
      },
      "outputs": [
        {
          "output_type": "stream",
          "name": "stdout",
          "text": [
            "00_joke_bot\n",
            "What do you want?joke\n",
            "Why do programmers prefer dark mode?🤑 \n",
            " Because light attracts bugs. 🐛💡😆\n"
          ]
        }
      ],
      "source": [
        "print(\"00_joke_bot\")\n",
        "\n",
        "PROMT : str = \"What do you want?\"\n",
        "JOKE : str =\"Why do programmers prefer dark mode?🤑 \\nBecause light attracts bugs. 🐛💡😆\"\n",
        "SORRY : str =\"Sorry I only tell jokes\"\n",
        "\n",
        "def main():\n",
        "  user_input= input(PROMT).strip().lower()\n",
        "\n",
        "  if \"joke\" in user_input:\n",
        "    print(JOKE)\n",
        "  else:\n",
        "    print(SORRY)\n",
        "\n",
        "if __name__ == \"__main__\":\n",
        "  main()\n"
      ]
    },
    {
      "cell_type": "code",
      "source": [
        "print(\"01_double_it\")\n",
        "\n",
        "def main():\n",
        "    while True:\n",
        "        user_input = input(\"Please enter a number (or exit to quit): \")\n",
        "\n",
        "        if user_input.lower() == '':\n",
        "            break\n",
        "\n",
        "        try:\n",
        "            number = float(user_input)\n",
        "            print(user_input, \"Double is:\", number * 2)\n",
        "        except ValueError:\n",
        "            print(\"That's not a valid number. Try again.\")\n",
        "\n",
        "if __name__ == '__main__':\n",
        "    main()"
      ],
      "metadata": {
        "colab": {
          "base_uri": "https://localhost:8080/"
        },
        "id": "LCJeNEUUq83z",
        "outputId": "d497a7db-a0ec-4e1b-ca8a-598df7d5289d"
      },
      "execution_count": null,
      "outputs": [
        {
          "name": "stdout",
          "output_type": "stream",
          "text": [
            "01_double_it\n",
            "Please enter a number (or exit to quit): 6\n",
            "6 Double is: 12.0\n",
            "Please enter a number (or exit to quit): 5\n",
            "5 Double is: 10.0\n",
            "Please enter a number (or exit to quit): 4\n",
            "4 Double is: 8.0\n",
            "Please enter a number (or exit to quit): \n"
          ]
        }
      ]
    },
    {
      "cell_type": "code",
      "source": [
        "print(\"02_liftoff\")\n",
        "\n",
        "def main():\n",
        "  for i in range(10):\n",
        "    print(10-i, end=' ')\n",
        "  print(\"Liftoff!\")\n",
        "\n",
        "if __name__ == '__main__':\n",
        "  main()"
      ],
      "metadata": {
        "colab": {
          "base_uri": "https://localhost:8080/"
        },
        "id": "JFp4YFiJrYY9",
        "outputId": "421f9553-2390-4235-f270-692c5f35ee20"
      },
      "execution_count": null,
      "outputs": [
        {
          "output_type": "stream",
          "name": "stdout",
          "text": [
            "02_liftoff\n",
            "04_liftoff\n",
            "10 9 8 7 6 5 4 3 2 1 Liftoff!\n"
          ]
        }
      ]
    },
    {
      "cell_type": "code",
      "source": [
        "import random\n",
        "\n",
        "print(\"03_guess_my_number\")\n",
        "\n",
        "secret_numbet=random.randint(1,100)\n",
        "\n",
        "print(\"Welcome to the number guessing game!\")\n",
        "print(\"I'm thinking of a number between 1 and 100.\")\n",
        "\n",
        "def guess_numbers():\n",
        "    while True:\n",
        "            guess=int(input(\"Take a guess:\"))\n",
        "            if guess<secret_numbet:\n",
        "              print(\"your guess is Too Low! Try again\")\n",
        "            elif guess>secret_numbet:\n",
        "              print(\"Opps! Your guess is Too High! Keep trying\")\n",
        "            elif guess==secret_numbet:\n",
        "              print(\"Congracts! the number was \" + str(secret_numbet))\n",
        "              break\n",
        "\n",
        "if __name__ == \"__main__\":\n",
        "    guess_numbers()"
      ],
      "metadata": {
        "colab": {
          "base_uri": "https://localhost:8080/"
        },
        "id": "xGTp4826ruTI",
        "outputId": "64347cfd-3f28-467d-c210-40b9fdb1931d"
      },
      "execution_count": null,
      "outputs": [
        {
          "output_type": "stream",
          "name": "stdout",
          "text": [
            "00_guess_my_number\n",
            "Welcome to the number guessing game!\n",
            "I'm thinking of a number between 1 and 100.\n",
            "Take a guess:50\n",
            "your guess is Too Low! Try again\n",
            "Take a guess:60\n",
            "your guess is Too Low! Try again\n",
            "Take a guess:8210\n",
            "Opps! Your guess is Too High! Keep trying\n",
            "Take a guess:40\n",
            "your guess is Too Low! Try again\n",
            "Take a guess:70\n",
            "your guess is Too Low! Try again\n",
            "Take a guess:80\n",
            "Opps! Your guess is Too High! Keep trying\n",
            "Take a guess:72\n",
            "your guess is Too Low! Try again\n",
            "Take a guess:75\n",
            "your guess is Too Low! Try again\n",
            "Take a guess:7\n",
            "your guess is Too Low! Try again\n",
            "Take a guess:76\n",
            "your guess is Too Low! Try again\n",
            "Take a guess:78\n",
            "your guess is Too Low! Try again\n",
            "Take a guess:79\n",
            "Congracts! the number was 79\n"
          ]
        }
      ]
    },
    {
      "cell_type": "code",
      "source": [
        "import random\n",
        "print(\"04_random_numbers\")\n",
        "LENGTH :int=10\n",
        "MIN:int=1\n",
        "MAX:int=100\n",
        "\n",
        "def generate():\n",
        "  print(\"Here is 10 random numbers between 1_100\" )\n",
        "  for i in range(LENGTH):\n",
        "    print(random.randint(MIN, MAX) , end=' ')\n",
        "if __name__ == '__main__':\n",
        "    generate()"
      ],
      "metadata": {
        "colab": {
          "base_uri": "https://localhost:8080/"
        },
        "id": "J-E7l-PMtLJO",
        "outputId": "dc7794d8-d05d-403e-b1ae-8633d307652e"
      },
      "execution_count": null,
      "outputs": [
        {
          "output_type": "stream",
          "name": "stdout",
          "text": [
            "04_random_numbers\n",
            "Here is 10 random numbers between 1_100\n",
            "67 16 11 84 75 83 72 59 84 27 "
          ]
        }
      ]
    }
  ]
}